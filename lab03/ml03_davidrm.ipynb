{
 "cells": [
  {
   "cell_type": "markdown",
   "metadata": {},
   "source": [
    "# Lab 3: Predicting a Categorical Target and Evaluating Performance - Titanic Dataset\n",
    "**Author: David Rodriguez-Mayorquin**\n",
    "**Date: March 19, 2025**\n",
    "\n",
    "### Introduction\n",
    "In this project, we use classification models to predict survival on the Titanic using various input features such as age, sex, passenger class, and fare. We will train multiple classification models, evaluate their performance using key metrics (accuracy, precision, recall, F1-score), and create visualizations to interpret the results. This exercise helps us understand how different machine learning models work and how to compare their strengths and weaknesses in real-world scenarios."
   ]
  },
  {
   "cell_type": "markdown",
   "metadata": {},
   "source": [
    "## Section 1. Import and Inspect the Data\n",
    "### 2.1 Load the titanic dataset fdirectly from the seaborn library for consistency and simplicity."
   ]
  },
  {
   "cell_type": "code",
   "execution_count": 29,
   "metadata": {},
   "outputs": [],
   "source": [
    "# Import libraries\n",
    "\n",
    "import pandas as pd\n",
    "import seaborn as sns\n",
    "import matplotlib.pyplot as plt\n",
    "from sklearn.model_selection import train_test_split\n",
    "from sklearn.preprocessing import StandardScaler\n",
    "from sklearn.metrics import accuracy_score, precision_score, recall_score, f1_score, confusion_matrix, classification_report\n",
    "from sklearn.tree import DecisionTreeClassifier\n",
    "from sklearn.svm import SVC\n",
    "from sklearn.neural_network import MLPClassifier\n",
    "import numpy as np\n",
    "\n",
    "# Load the Titanic dataset\n",
    "titanic = sns.load_dataset('titanic')"
   ]
  },
  {
   "cell_type": "markdown",
   "metadata": {},
   "source": [
    "## 2. Data Exploration and Preparation\n",
    "\n",
    "### 2.1 Handle Missing Values and Clean Data\n",
    "We begin by handling missing values in the dataset. Missing values in the `age` column are imputed using the median, and missing values in the `embark_town` column are filled with the mode.\n",
    "\n",
    "### 2.2 Feature Engineering\n",
    "We create a new feature called `family_size`, encode categorical variables such as `sex` and `embarked` into numeric values, and convert the binary `alone` column to numeric as well.\n"
   ]
  },
  {
   "cell_type": "code",
   "execution_count": 37,
   "metadata": {},
   "outputs": [
    {
     "name": "stdout",
     "output_type": "stream",
     "text": [
      "Missing values remaining:\n",
      "age            0\n",
      "sex            0\n",
      "embarked       0\n",
      "embark_town    0\n",
      "dtype: int64\n",
      "\n",
      "Sample of new features:\n",
      "   family_size  sex  embarked  alone\n",
      "0            2    0         2      0\n",
      "1            2    0         2      0\n",
      "2            1    0         2      1\n",
      "3            2    0         2      0\n",
      "4            1    0         2      1\n"
     ]
    }
   ],
   "source": [
    "# 2.1 Handle Missing Values (avoiding chained assignment warning)\n",
    "titanic['age'] = titanic['age'].fillna(titanic['age'].median())\n",
    "titanic['embark_town'] = titanic['embark_town'].fillna(titanic['embark_town'].mode().iloc[0])\n",
    "titanic['embarked'] = titanic['embarked'].fillna('S')\n",
    "titanic['sex'] = titanic['sex'].fillna('male')\n",
    "\n",
    "# 2.2 Feature Engineering\n",
    "titanic['family_size'] = titanic['sibsp'] + titanic['parch'] + 1\n",
    "titanic['sex'] = titanic['sex'].map({'male': 0, 'female': 1})\n",
    "titanic['embarked'] = titanic['embarked'].map({'C': 0, 'Q': 1, 'S': 2})\n",
    "titanic['alone'] = titanic['alone'].astype(int)\n",
    "\n",
    "# Quick checks after preprocessing\n",
    "print(\"Missing values remaining:\")\n",
    "print(titanic[['age', 'sex', 'embarked', 'embark_town']].isnull().sum())\n",
    "\n",
    "print(\"\\nSample of new features:\")\n",
    "print(titanic[['family_size', 'sex', 'embarked', 'alone']].head())\n"
   ]
  },
  {
   "cell_type": "markdown",
   "metadata": {},
   "source": [
    "## 3. Feature Selection and Justification\n",
    "\n",
    "### 3.1 Choose Features and Target\n",
    "In this section, we select 2 or more input fatures and the target. Since this is a classification problem, we can use both categorical and numerical features. We used `survived` as the target.\n",
    "Three different input scenarios are considered to evaluate how different features affect model performance:\n",
    "\n",
    "- **Case 1:** Input feature – `alone`\n",
    "- **Case 2:** Input feature – `age`\n",
    "- **Case 3:** Input features – `age` and `family_size`\n",
    "\n",
    "The **target variable is `survived`**, which indicates whether the passenger survived (1) or not (0).\n",
    "\n",
    "### 3.2 Define `X` (features) and `y` (target)\n",
    "We assign the selected input features to `X` and the target variable to `y`. Only one case is active at a time using code comments.\n"
   ]
  },
  {
   "cell_type": "code",
   "execution_count": 46,
   "metadata": {},
   "outputs": [
    {
     "name": "stdout",
     "output_type": "stream",
     "text": [
      "Feature matrix X shape: (891, 1)\n",
      "Target vector y shape: (891,)\n"
     ]
    }
   ],
   "source": [
    "# Case 1: alone only\n",
    "X = titanic[['alone']]\n",
    "y = titanic['survived']\n",
    "\n",
    "# Case 2: age only\n",
    "# X = titanic[['age']]\n",
    "# y = titanic['survived']\n",
    "\n",
    "# Case 3: age and family_size\n",
    "# X = titanic[['age', 'family_size']]\n",
    "# y = titanic['survived']\n",
    "\n",
    "# Show shape for confirmation\n",
    "print(\"Feature matrix X shape:\", X.shape)\n",
    "print(\"Target vector y shape:\", y.shape)\n"
   ]
  },
  {
   "cell_type": "markdown",
   "metadata": {},
   "source": [
    "2.1.2 Histogram - Age Distribution"
   ]
  },
  {
   "cell_type": "code",
   "execution_count": 47,
   "metadata": {},
   "outputs": [
    {
     "data": {
      "image/png": "[encoded data removed]",
      "text/plain": [
       "<Figure size 640x480 with 1 Axes>"
      ]
     },
     "metadata": {},
     "output_type": "display_data"
    }
   ],
   "source": [
    "# Histogram of Age\n",
    "# Plot histogram with KDE (Kernel Density Estimate)\n",
    "sns.histplot(titanic['age'], kde=True)\n",
    "\n",
    "# Add title and display\n",
    "plt.title('Age Distribution')\n",
    "plt.xlabel('Age')\n",
    "plt.ylabel('Count')\n",
    "plt.grid(True)\n",
    "plt.show()\n"
   ]
  },
  {
   "cell_type": "markdown",
   "metadata": {},
   "source": [
    "2.1.3 Count Plot – Class Distribution by Survival"
   ]
  },
  {
   "cell_type": "code",
   "execution_count": 48,
   "metadata": {},
   "outputs": [
    {
     "data": {
      "image/png": "[encoded data removed]",
      "text/plain": [
       "<Figure size 640x480 with 1 Axes>"
      ]
     },
     "metadata": {},
     "output_type": "display_data"
    }
   ],
   "source": [
    "# Count Plot - Class Distribution by Survival\n",
    "# Count plot: Passenger class with survival hue\n",
    "sns.countplot(x='class', hue='survived', data=titanic)\n",
    "\n",
    "# Add title and display\n",
    "plt.title('Class Distribution by Survival')\n",
    "plt.xlabel('Passenger Class')\n",
    "plt.ylabel('Count')\n",
    "plt.legend(title='Survived', labels=['No', 'Yes'])\n",
    "plt.grid(True)\n",
    "plt.show()\n"
   ]
  },
  {
   "cell_type": "markdown",
   "metadata": {},
   "source": [
    "### Reflection 2.1\n",
    "1. What patterns or anomalies do you notice? \n",
    "   - Age and fare do not have a clear linear relationship\n",
    "   - There are missing age values\n",
    "   - Some passengers paid very high fares and some fares are 0 (zero).\n",
    "2. Do any features stand out as potential predictors? \n",
    "   - Gender, emales had a higher survival rate.\n",
    "   - Pclass or Passenger class, Higher class passengers seems to survive more often.\n",
    "   - Family Size, passengers traveling alone may have lower survival chances.\n",
    "3. Are there any visible class imbalances? Yes:\n",
    "   - Survival class are imbalanced, more people did not survive than survived\n",
    "   - Pclass has more passenger in 3rd class compared to 1st and 2nd."
   ]
  },
  {
   "cell_type": "markdown",
   "metadata": {},
   "source": [
    "### Section 2.2 \n",
    "Handle Missing Values and Clean Data"
   ]
  },
  {
   "cell_type": "code",
   "execution_count": 49,
   "metadata": {},
   "outputs": [
    {
     "name": "stdout",
     "output_type": "stream",
     "text": [
      "Missing values after cleaning:\n",
      "survived         0\n",
      "pclass           0\n",
      "sex            891\n",
      "age              0\n",
      "sibsp            0\n",
      "parch            0\n",
      "fare             0\n",
      "embarked       891\n",
      "class            0\n",
      "who              0\n",
      "adult_male       0\n",
      "deck           688\n",
      "embark_town      0\n",
      "alive            0\n",
      "alone            0\n",
      "family_size      0\n",
      "dtype: int64\n"
     ]
    },
    {
     "name": "stderr",
     "output_type": "stream",
     "text": [
      "/var/folders/02/57dqfrgx6zzfw_sgv9yyk60c0000gn/T/ipykernel_5581/1095074508.py:4: FutureWarning: A value is trying to be set on a copy of a DataFrame or Series through chained assignment using an inplace method.\n",
      "The behavior will change in pandas 3.0. This inplace method will never work because the intermediate object on which we are setting values always behaves as a copy.\n",
      "\n",
      "For example, when doing 'df[col].method(value, inplace=True)', try using 'df.method({col: value}, inplace=True)' or df[col] = df[col].method(value) instead, to perform the operation inplace on the original object.\n",
      "\n",
      "\n",
      "  titanic['age'].fillna(titanic['age'].median(), inplace=True)\n",
      "/var/folders/02/57dqfrgx6zzfw_sgv9yyk60c0000gn/T/ipykernel_5581/1095074508.py:7: FutureWarning: A value is trying to be set on a copy of a DataFrame or Series through chained assignment using an inplace method.\n",
      "The behavior will change in pandas 3.0. This inplace method will never work because the intermediate object on which we are setting values always behaves as a copy.\n",
      "\n",
      "For example, when doing 'df[col].method(value, inplace=True)', try using 'df.method({col: value}, inplace=True)' or df[col] = df[col].method(value) instead, to perform the operation inplace on the original object.\n",
      "\n",
      "\n",
      "  titanic['embark_town'].fillna(titanic['embark_town'].mode()[0], inplace=True)\n"
     ]
    }
   ],
   "source": [
    "# Section 2.2: Handle Missing Values and Clean Data\n",
    "\n",
    "# Fill missing values in 'age' with the median age\n",
    "titanic['age'].fillna(titanic['age'].median(), inplace=True)\n",
    "\n",
    "# Fill missing values in 'embark_town' with the most frequent value (mode)\n",
    "titanic['embark_town'].fillna(titanic['embark_town'].mode()[0], inplace=True)\n",
    "\n",
    "# After handling missing values, recheck missing values\n",
    "print(\"Missing values after cleaning:\")\n",
    "print(titanic.isnull().sum())\n"
   ]
  },
  {
   "cell_type": "markdown",
   "metadata": {},
   "source": [
    "### Section 2.3 \n",
    "Feature Engineering"
   ]
  },
  {
   "cell_type": "code",
   "execution_count": 50,
   "metadata": {},
   "outputs": [
    {
     "name": "stdout",
     "output_type": "stream",
     "text": [
      "   sex  embarked  family_size  alone\n",
      "0  NaN       NaN            2      0\n",
      "1  NaN       NaN            2      0\n",
      "2  NaN       NaN            1      1\n",
      "3  NaN       NaN            2      0\n",
      "4  NaN       NaN            1      1\n"
     ]
    }
   ],
   "source": [
    "# Section 2.3: Feature Engineering\n",
    "\n",
    "# 1. Create a new feature: Family size\n",
    "titanic['family_size'] = titanic['sibsp'] + titanic['parch'] + 1\n",
    "\n",
    "# 2. Convert categorical variables to numeric\n",
    "titanic['sex'] = titanic['sex'].map({'male': 0, 'female': 1})\n",
    "titanic['embarked'] = titanic['embarked'].map({'C': 0, 'Q': 1, 'S': 2})\n",
    "\n",
    "# 3. Create a binary feature for 'alone':\n",
    "titanic['alone'] = titanic['alone'].astype(int)\n",
    "\n",
    "# check\n",
    "print(titanic[['sex', 'embarked', 'family_size', 'alone']].head())\n"
   ]
  },
  {
   "cell_type": "markdown",
   "metadata": {},
   "source": [
    "### Reflection 2.3\n",
    "1. Why might family size be a useful feature for predicting survival?\n",
    "   Family size shows if someone was alone or with others. People with family may have had a better chance of survival by helping each other.\n",
    "2. Why convert categorical data to numeric? Changing categories like male/female to numbers help understand the data"
   ]
  },
  {
   "cell_type": "markdown",
   "metadata": {},
   "source": [
    "## Section 3. Feature Selection and Justification\n",
    "### 3.1 Feature Selection and Target Variable\n",
    "### 3.2 Define X and y"
   ]
  },
  {
   "cell_type": "code",
   "execution_count": 51,
   "metadata": {},
   "outputs": [
    {
     "name": "stdout",
     "output_type": "stream",
     "text": [
      "X shape: (891, 5)\n",
      "y shape: (891,)\n"
     ]
    }
   ],
   "source": [
    "# Section 3.1: Feature Selection and Target Variable\n",
    "# Selected input features (X): age, fare, pclass, sex, family_size\n",
    "# Target variable (y): survived\n",
    "\n",
    "# Section 3.2: Define X and y\n",
    "X = titanic[['age', 'fare', 'pclass', 'sex', 'family_size']]\n",
    "y = titanic['survived']\n",
    "\n",
    "# Check shape of input and target\n",
    "print(\"X shape:\", X.shape)\n",
    "print(\"y shape:\", y.shape)\n"
   ]
  },
  {
   "cell_type": "markdown",
   "metadata": {},
   "source": [
    "### Reflection 3:\n",
    "\n",
    "Why are these features selected? Are there any features that are likely to be highly predictive of survival?\n",
    "\n",
    "I picked **age, fare, pclass, sex, and family size** because they may affect survival.  \n",
    "I set **X** as the input features and **y** as the target (survived).  \n",
    "The shape shows we have **891 rows and 5 features** for X, and **891 labels** in y.\n"
   ]
  },
  {
   "cell_type": "markdown",
   "metadata": {},
   "source": [
    "## Section 4. Splitting\n",
    "Split the data into training and test sets using train_test_split first and StratifiedShuffleSplit second."
   ]
  },
  {
   "cell_type": "code",
   "execution_count": 52,
   "metadata": {},
   "outputs": [
    {
     "name": "stdout",
     "output_type": "stream",
     "text": [
      "Basic Split → Train size: 712  | Test size: 179\n",
      "Stratified Split → Train size: 712  | Test size: 179\n",
      "\n",
      "Original Class Distribution:\n",
      " survived\n",
      "0    0.616162\n",
      "1    0.383838\n",
      "Name: proportion, dtype: float64\n",
      "\n",
      "Basic Split - Train Set Class Distribution:\n",
      " survived\n",
      "0    0.610955\n",
      "1    0.389045\n",
      "Name: proportion, dtype: float64\n",
      "\n",
      "Basic Split - Test Set Class Distribution:\n",
      " survived\n",
      "0    0.636872\n",
      "1    0.363128\n",
      "Name: proportion, dtype: float64\n",
      "\n",
      "Stratified Split - Train Set Class Distribution:\n",
      " survived\n",
      "0    0.616573\n",
      "1    0.383427\n",
      "Name: proportion, dtype: float64\n",
      "\n",
      "Stratified Split - Test Set Class Distribution:\n",
      " survived\n",
      "0    0.614525\n",
      "1    0.385475\n",
      "Name: proportion, dtype: float64\n"
     ]
    }
   ],
   "source": [
    "# Section 4.1: Basic Train/Test Split\n",
    "\n",
    "X_train_basic, X_test_basic, y_train_basic, y_test_basic = train_test_split(\n",
    "    X, y, test_size=0.2, random_state=123\n",
    ")\n",
    "\n",
    "print(\"Basic Split → Train size:\", len(X_train_basic), \" | Test size:\", len(X_test_basic))\n",
    "\n",
    "# Section 4.2: Stratified Train/Test Split\n",
    "from sklearn.model_selection import StratifiedShuffleSplit\n",
    "\n",
    "splitter = StratifiedShuffleSplit(n_splits=1, test_size=0.2, random_state=123)\n",
    "\n",
    "for train_index, test_index in splitter.split(X, y):\n",
    "    X_train_strat = X.iloc[train_index]\n",
    "    y_train_strat = y.iloc[train_index]\n",
    "    X_test_strat = X.iloc[test_index]\n",
    "    y_test_strat = y.iloc[test_index]\n",
    "\n",
    "print(\"Stratified Split → Train size:\", len(X_train_strat), \" | Test size:\", len(X_test_strat))\n",
    "\n",
    "# Section 4.3: Compare Class Distributions\n",
    "print(\"\\nOriginal Class Distribution:\\n\", y.value_counts(normalize=True))\n",
    "print(\"\\nBasic Split - Train Set Class Distribution:\\n\", y_train_basic.value_counts(normalize=True))\n",
    "print(\"\\nBasic Split - Test Set Class Distribution:\\n\", y_test_basic.value_counts(normalize=True))\n",
    "print(\"\\nStratified Split - Train Set Class Distribution:\\n\", y_train_strat.value_counts(normalize=True))\n",
    "print(\"\\nStratified Split - Test Set Class Distribution:\\n\", y_test_strat.value_counts(normalize=True))\n"
   ]
  },
  {
   "cell_type": "markdown",
   "metadata": {},
   "source": [
    "### Reflection 4\n",
    "1. Why might stratification improve model performance?\n",
    "   Stratification helps keep the same mix of classes in both training and test sets.\n",
    "2. How close are the training and test distributions to the original dataset?\n",
    "   The stratified split is much closer to the original survival rates.\n",
    "3. Which split method produced better class balance?\n",
    "   Stratified split keeps the class balance better and helps test the model more fairly."
   ]
  }
 ],
 "metadata": {
  "kernelspec": {
   "display_name": ".venv",
   "language": "python",
   "name": "python3"
  },
  "language_info": {
   "codemirror_mode": {
    "name": "ipython",
    "version": 3
   },
   "file_extension": ".py",
   "mimetype": "text/x-python",
   "name": "python",
   "nbconvert_exporter": "python",
   "pygments_lexer": "ipython3",
   "version": "3.11.9"
  }
 },
 "nbformat": 4,
 "nbformat_minor": 2
}
