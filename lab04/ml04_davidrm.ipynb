{
 "cells": [
  {
   "cell_type": "markdown",
   "metadata": {},
   "source": [
    "# Lab 04: Predicting a Continuous Target (Fare Prediction)\n",
    "**Name:** David Rodriguez-Mayorquin\n",
    "**Date:** April 5, 2025  \n",
    "\n",
    "## Introduction  \n",
    "In this lab, we are focusing on regression, a type of machine learning used to predict continuous numeric targets. We will work with a dataset that includes information about journeys and their associated fares. Our objective is to build models that can accurately predict the fare based on various features.  \n",
    "\n",
    "We will begin by exploring and preparing the data, selecting appropriate features, and training a Linear Regression model. We will then compare it with alternative models like Ridge, Elastic Net, and Polynomial Regression to evaluate performance and interpretability.\n"
   ]
  },
  {
   "cell_type": "markdown",
   "metadata": {},
   "source": [
    "## Section 1: Import and Inspect the Data"
   ]
  },
  {
   "cell_type": "code",
   "execution_count": 8,
   "metadata": {},
   "outputs": [],
   "source": [
    "# Import libraries\n",
    "import seaborn as sns\n",
    "import pandas as pd\n",
    "import numpy as np\n",
    "import matplotlib.pyplot as plt\n",
    "\n",
    "from sklearn.model_selection import train_test_split\n",
    "from sklearn.linear_model import LinearRegression, Ridge, ElasticNet\n",
    "from sklearn.preprocessing import PolynomialFeatures, LabelEncoder\n",
    "from sklearn.metrics import mean_squared_error, mean_absolute_error, r2_score"
   ]
  },
  {
   "cell_type": "code",
   "execution_count": 9,
   "metadata": {},
   "outputs": [
    {
     "data": {
      "text/html": [
       "<div>\n",
       "<style scoped>\n",
       "    .dataframe tbody tr th:only-of-type {\n",
       "        vertical-align: middle;\n",
       "    }\n",
       "\n",
       "    .dataframe tbody tr th {\n",
       "        vertical-align: top;\n",
       "    }\n",
       "\n",
       "    .dataframe thead th {\n",
       "        text-align: right;\n",
       "    }\n",
       "</style>\n",
       "<table border=\"1\" class=\"dataframe\">\n",
       "  <thead>\n",
       "    <tr style=\"text-align: right;\">\n",
       "      <th></th>\n",
       "      <th>survived</th>\n",
       "      <th>pclass</th>\n",
       "      <th>sex</th>\n",
       "      <th>age</th>\n",
       "      <th>sibsp</th>\n",
       "      <th>parch</th>\n",
       "      <th>fare</th>\n",
       "      <th>embarked</th>\n",
       "      <th>class</th>\n",
       "      <th>who</th>\n",
       "      <th>adult_male</th>\n",
       "      <th>deck</th>\n",
       "      <th>embark_town</th>\n",
       "      <th>alive</th>\n",
       "      <th>alone</th>\n",
       "    </tr>\n",
       "  </thead>\n",
       "  <tbody>\n",
       "    <tr>\n",
       "      <th>0</th>\n",
       "      <td>0</td>\n",
       "      <td>3</td>\n",
       "      <td>male</td>\n",
       "      <td>22.0</td>\n",
       "      <td>1</td>\n",
       "      <td>0</td>\n",
       "      <td>7.2500</td>\n",
       "      <td>S</td>\n",
       "      <td>Third</td>\n",
       "      <td>man</td>\n",
       "      <td>True</td>\n",
       "      <td>NaN</td>\n",
       "      <td>Southampton</td>\n",
       "      <td>no</td>\n",
       "      <td>False</td>\n",
       "    </tr>\n",
       "    <tr>\n",
       "      <th>1</th>\n",
       "      <td>1</td>\n",
       "      <td>1</td>\n",
       "      <td>female</td>\n",
       "      <td>38.0</td>\n",
       "      <td>1</td>\n",
       "      <td>0</td>\n",
       "      <td>71.2833</td>\n",
       "      <td>C</td>\n",
       "      <td>First</td>\n",
       "      <td>woman</td>\n",
       "      <td>False</td>\n",
       "      <td>C</td>\n",
       "      <td>Cherbourg</td>\n",
       "      <td>yes</td>\n",
       "      <td>False</td>\n",
       "    </tr>\n",
       "    <tr>\n",
       "      <th>2</th>\n",
       "      <td>1</td>\n",
       "      <td>3</td>\n",
       "      <td>female</td>\n",
       "      <td>26.0</td>\n",
       "      <td>0</td>\n",
       "      <td>0</td>\n",
       "      <td>7.9250</td>\n",
       "      <td>S</td>\n",
       "      <td>Third</td>\n",
       "      <td>woman</td>\n",
       "      <td>False</td>\n",
       "      <td>NaN</td>\n",
       "      <td>Southampton</td>\n",
       "      <td>yes</td>\n",
       "      <td>True</td>\n",
       "    </tr>\n",
       "    <tr>\n",
       "      <th>3</th>\n",
       "      <td>1</td>\n",
       "      <td>1</td>\n",
       "      <td>female</td>\n",
       "      <td>35.0</td>\n",
       "      <td>1</td>\n",
       "      <td>0</td>\n",
       "      <td>53.1000</td>\n",
       "      <td>S</td>\n",
       "      <td>First</td>\n",
       "      <td>woman</td>\n",
       "      <td>False</td>\n",
       "      <td>C</td>\n",
       "      <td>Southampton</td>\n",
       "      <td>yes</td>\n",
       "      <td>False</td>\n",
       "    </tr>\n",
       "    <tr>\n",
       "      <th>4</th>\n",
       "      <td>0</td>\n",
       "      <td>3</td>\n",
       "      <td>male</td>\n",
       "      <td>35.0</td>\n",
       "      <td>0</td>\n",
       "      <td>0</td>\n",
       "      <td>8.0500</td>\n",
       "      <td>S</td>\n",
       "      <td>Third</td>\n",
       "      <td>man</td>\n",
       "      <td>True</td>\n",
       "      <td>NaN</td>\n",
       "      <td>Southampton</td>\n",
       "      <td>no</td>\n",
       "      <td>True</td>\n",
       "    </tr>\n",
       "  </tbody>\n",
       "</table>\n",
       "</div>"
      ],
      "text/plain": [
       "   survived  pclass     sex   age  sibsp  parch     fare embarked  class  \\\n",
       "0         0       3    male  22.0      1      0   7.2500        S  Third   \n",
       "1         1       1  female  38.0      1      0  71.2833        C  First   \n",
       "2         1       3  female  26.0      0      0   7.9250        S  Third   \n",
       "3         1       1  female  35.0      1      0  53.1000        S  First   \n",
       "4         0       3    male  35.0      0      0   8.0500        S  Third   \n",
       "\n",
       "     who  adult_male deck  embark_town alive  alone  \n",
       "0    man        True  NaN  Southampton    no  False  \n",
       "1  woman       False    C    Cherbourg   yes  False  \n",
       "2  woman       False  NaN  Southampton   yes   True  \n",
       "3  woman       False    C  Southampton   yes  False  \n",
       "4    man        True  NaN  Southampton    no   True  "
      ]
     },
     "execution_count": 9,
     "metadata": {},
     "output_type": "execute_result"
    }
   ],
   "source": [
    "# Load Titanic dataset from seaborn\n",
    "titanic = sns.load_dataset(\"titanic\")\n",
    "\n",
    "# Display first 5 rows\n",
    "titanic.head()"
   ]
  },
  {
   "cell_type": "markdown",
   "metadata": {},
   "source": [
    "## Section 2: Data Exploration and Preparation"
   ]
  },
  {
   "cell_type": "code",
   "execution_count": 10,
   "metadata": {},
   "outputs": [
    {
     "name": "stdout",
     "output_type": "stream",
     "text": [
      "<class 'pandas.core.frame.DataFrame'>\n",
      "RangeIndex: 891 entries, 0 to 890\n",
      "Data columns (total 16 columns):\n",
      " #   Column       Non-Null Count  Dtype   \n",
      "---  ------       --------------  -----   \n",
      " 0   survived     891 non-null    int64   \n",
      " 1   pclass       891 non-null    int64   \n",
      " 2   sex          891 non-null    int64   \n",
      " 3   age          891 non-null    float64 \n",
      " 4   sibsp        891 non-null    int64   \n",
      " 5   parch        891 non-null    int64   \n",
      " 6   fare         891 non-null    float64 \n",
      " 7   embarked     889 non-null    object  \n",
      " 8   class        891 non-null    category\n",
      " 9   who          891 non-null    object  \n",
      " 10  adult_male   891 non-null    bool    \n",
      " 11  deck         203 non-null    category\n",
      " 12  embark_town  889 non-null    object  \n",
      " 13  alive        891 non-null    object  \n",
      " 14  alone        891 non-null    bool    \n",
      " 15  family_size  891 non-null    int64   \n",
      "dtypes: bool(2), category(2), float64(2), int64(6), object(4)\n",
      "memory usage: 87.6+ KB\n"
     ]
    },
    {
     "name": "stderr",
     "output_type": "stream",
     "text": [
      "/var/folders/02/57dqfrgx6zzfw_sgv9yyk60c0000gn/T/ipykernel_3336/3070647451.py:2: FutureWarning: A value is trying to be set on a copy of a DataFrame or Series through chained assignment using an inplace method.\n",
      "The behavior will change in pandas 3.0. This inplace method will never work because the intermediate object on which we are setting values always behaves as a copy.\n",
      "\n",
      "For example, when doing 'df[col].method(value, inplace=True)', try using 'df.method({col: value}, inplace=True)' or df[col] = df[col].method(value) instead, to perform the operation inplace on the original object.\n",
      "\n",
      "\n",
      "  titanic['age'].fillna(titanic['age'].median(), inplace=True)\n"
     ]
    }
   ],
   "source": [
    "# Impute missing values\n",
    "titanic['age'].fillna(titanic['age'].median(), inplace=True)\n",
    "\n",
    "# Drop rows where 'fare' is missing\n",
    "titanic = titanic.dropna(subset=['fare'])\n",
    "\n",
    "# Create 'family_size' feature\n",
    "titanic['family_size'] = titanic['sibsp'] + titanic['parch'] + 1\n",
    "\n",
    "# Convert categorical features\n",
    "titanic['sex'] = titanic['sex'].map({'male': 0, 'female': 1})\n",
    "\n",
    "## Preview the updated dataset\n",
    "titanic.head()\n",
    "\n",
    "# (Optional) Check how many rows remain after cleaning\n",
    "titanic.info()\n"
   ]
  },
  {
   "cell_type": "markdown",
   "metadata": {},
   "source": [
    "## Section 3: Feature Selection and Justification"
   ]
  },
  {
   "cell_type": "code",
   "execution_count": 12,
   "metadata": {},
   "outputs": [],
   "source": [
    "# Case 1: age\n",
    "X1 = titanic[['age']]\n",
    "y1 = titanic['fare']\n",
    "\n",
    "# Case 2: family_size\n",
    "X2 = titanic[['family_size']]\n",
    "y2 = titanic['fare']\n",
    "\n",
    "# Case 3: age and family_size\n",
    "X3 = titanic[['age', 'family_size']]\n",
    "y3 = titanic['fare']\n",
    "\n",
    "# Case 4: age, family_size, and sex\n",
    "X4 = titanic[['age', 'family_size', 'sex']]\n",
    "y4 = titanic['fare']\n"
   ]
  },
  {
   "cell_type": "markdown",
   "metadata": {},
   "source": [
    "### Reflection\n",
    "\n",
    "**Why might these features affect a passenger’s fare?**  \n",
    "- age: Older passengers may afford or choose higher-class tickets.\n",
    "- family_size: Larger families may pay more in total or get group pricing.\n",
    "- sex: There may be subtle patterns in fare by gender, depending on travel behavior or class selection.\n",
    "\n",
    "**List all available features:**  \n",
    "`survived`, `pclass`, `sex`, `age`, `sibsp`, `parch`, `fare`, `embarked`, `class`, `who`, `deck`, `embark_town`, `alive`, `alone`, `family_size`\n",
    "\n",
    "**Which other features could improve predictions and why?**  \n",
    "- pclass: Strongly tied to fare (1st class is more expensive).\n",
    "- embarked: May indicate point of origin and fare differences.\n",
    "- deck: Higher decks may correlate with higher fare.\n",
    "\n",
    "**How many variables are in your Case 4?**  \n",
    "**3 variables**: age, family_size, and sex\n",
    "\n",
    "**Which variables did you choose for Case 4 and why?**  \n",
    "I chose age, family_size, and sex because they may interact with social class, affordability, or ticket price. \n",
    "\n"
   ]
  },
  {
   "cell_type": "markdown",
   "metadata": {},
   "source": [
    "## Section 4: Train a Regression Model (Linear Regression)\n",
    "### 4.1 Split the data"
   ]
  },
  {
   "cell_type": "code",
   "execution_count": 16,
   "metadata": {},
   "outputs": [],
   "source": [
    "# 4.1 Split the data\n",
    "\n",
    "X1_train, X1_test, y1_train, y1_test = train_test_split(X1, y1, test_size=0.2, random_state=123)\n",
    "X2_train, X2_test, y2_train, y2_test = train_test_split(X2, y2, test_size=0.2, random_state=123)\n",
    "X3_train, X3_test, y3_train, y3_test = train_test_split(X3, y3, test_size=0.2, random_state=123)\n",
    "X4_train, X4_test, y4_train, y4_test = train_test_split(X4, y4, test_size=0.2, random_state=123)\n"
   ]
  },
  {
   "cell_type": "markdown",
   "metadata": {},
   "source": [
    "### 4.2  Train and Evaluate Linear Regression Models (all 4 cases)"
   ]
  },
  {
   "cell_type": "code",
   "execution_count": 17,
   "metadata": {},
   "outputs": [],
   "source": [
    "\n",
    "# Fit models\n",
    "lr_model1 = LinearRegression().fit(X1_train, y1_train)\n",
    "lr_model2 = LinearRegression().fit(X2_train, y2_train)\n",
    "lr_model3 = LinearRegression().fit(X3_train, y3_train)\n",
    "lr_model4 = LinearRegression().fit(X4_train, y4_train)\n",
    "\n",
    "# Make predictions\n",
    "y_pred_train1 = lr_model1.predict(X1_train)\n",
    "y_pred_test1 = lr_model1.predict(X1_test)\n",
    "\n",
    "y_pred_train2 = lr_model2.predict(X2_train)\n",
    "y_pred_test2 = lr_model2.predict(X2_test)\n",
    "\n",
    "y_pred_train3 = lr_model3.predict(X3_train)\n",
    "y_pred_test3 = lr_model3.predict(X3_test)\n",
    "\n",
    "y_pred_train4 = lr_model4.predict(X4_train)\n",
    "y_pred_test4 = lr_model4.predict(X4_test)\n"
   ]
  },
  {
   "cell_type": "markdown",
   "metadata": {},
   "source": [
    "### 4.3 Report Performance"
   ]
  },
  {
   "cell_type": "code",
   "execution_count": 19,
   "metadata": {},
   "outputs": [
    {
     "name": "stdout",
     "output_type": "stream",
     "text": [
      "Case 1: age\n",
      "  Training R²: 0.009950688019452314\n",
      "  Test R²: 0.0034163395508414185\n",
      "  Test RMSE: 37.97164180172938\n",
      "  Test MAE: 25.28637293162364\n",
      "\n",
      "Case 2: family_size\n",
      "  Training R²: 0.04991579236476096\n",
      "  Test R²: 0.02223118611013175\n",
      "  Test RMSE: 37.61149400419671\n",
      "  Test MAE: 25.02534815941642\n",
      "\n",
      "Case 3: age + family_size\n",
      "  Training R²: 0.07347466201590014\n",
      "  Test R²: 0.04978483276307322\n",
      "  Test RMSE: 37.077758664655896\n",
      "  Test MAE: 24.284935030470688\n",
      "\n",
      "Case 4: age + family_size + sex\n",
      "  Training R²: 0.08820175016793441\n",
      "  Test R²: 0.118981665068853\n",
      "  Test RMSE: 35.70219909380091\n",
      "  Test MAE: 23.597572299380392\n",
      "\n"
     ]
    }
   ],
   "source": [
    "# Define a helper function\n",
    "def evaluate_model(name, y_train, y_train_pred, y_test, y_test_pred):\n",
    "    print(f\"{name}\")\n",
    "    print(\"  Training R²:\", r2_score(y_train, y_train_pred))\n",
    "    print(\"  Test R²:\", r2_score(y_test, y_test_pred))\n",
    "    print(\"  Test RMSE:\", mean_squared_error(y_test, y_test_pred) ** 0.5)\n",
    "    print(\"  Test MAE:\", mean_absolute_error(y_test, y_test_pred))\n",
    "    print()\n",
    "\n",
    "# Evaluate all models\n",
    "evaluate_model(\"Case 1: age\", y1_train, y_pred_train1, y1_test, y_pred_test1)\n",
    "evaluate_model(\"Case 2: family_size\", y2_train, y_pred_train2, y2_test, y_pred_test2)\n",
    "evaluate_model(\"Case 3: age + family_size\", y3_train, y_pred_train3, y3_test, y_pred_test3)\n",
    "evaluate_model(\"Case 4: age + family_size + sex\", y4_train, y_pred_train4, y4_test, y_pred_test4)"
   ]
  },
  {
   "cell_type": "markdown",
   "metadata": {},
   "source": [
    "### Linear Regression Model Results Summary\n",
    "\n",
    "| Case | Features                     | Test R² | Test RMSE | Test MAE |\n",
    "|------|------------------------------|---------|-----------|----------|\n",
    "| 1    | `age`                        | 0.003   | 37.97     | 25.29    |\n",
    "| 2    | `family_size`               | 0.022   | 37.61     | 25.03    |\n",
    "| 3    | `age`, `family_size`        | 0.050   | 37.08     | 24.28    |\n",
    "| 4    | `age`, `family_size`, `sex` | 0.119   | 35.70     | 23.60    |\n"
   ]
  },
  {
   "cell_type": "markdown",
   "metadata": {},
   "source": [
    "## Section 4 Reflection Questions\n",
    "\n",
    "### Compare the Train vs Test Results\n",
    "\n",
    "**Case 1 (age):**  \n",
    "Train R²: 0.0099 — Test R²: 0.0034  \n",
    "Very low scores on both train and test suggest underfitting. The model doesn't capture meaningful patterns from just the age feature.\n",
    "\n",
    "**Case 2 (family_size):**  \n",
    "Train R²: 0.0499 — Test R²: 0.0222  \n",
    "Also underfitting, but slightly better than Case 1. family_size provides more signal than age alone.\n",
    "\n",
    "**Case 3 (age + family_size):**  \n",
    "Train R²: 0.0735 — Test R²: 0.0498  \n",
    "Improvement over Cases 1 and 2. Still underfitting, but less so. More features helped the model capture more variation.\n",
    "\n",
    "**Case 4 (age + family_size + sex):**  \n",
    "Train R²: 0.0882 — Test R²: 0.1190  \n",
    "Best performance so far, with test R² actually exceeding train R². This indicates **low risk of overfitting** and a good generalization to unseen data.\n",
    "\n",
    "### Adding Age\n",
    "\n",
    "**Did adding age improve the model?**  \n",
    "Slightly, but not significantly on its own. It was more useful when combined with other features.\n",
    "\n",
    "**Explanation:**  \n",
    "Age alone isn’t a strong predictor of fare, but it might correlate with class (e.g., older people traveling in higher class), which could explain its usefulness in combination with other features. The data suggests age is not very predictive on its own.\n",
    "\n",
    "### Worst Performing Case\n",
    "\n",
    "**Which case performed the worst?**  \n",
    "**Case 1: age**\n",
    "\n",
    "**How do you know?**  \n",
    "It had the lowest R² (0.003) and the highest RMSE and MAE. It explained almost no variance in fare.\n",
    "\n",
    "**Would more training data help?**  \n",
    "Not much. Since age alone isn’t a strong predictor, adding data likely wouldn’t make the relationship stronger without additional features.\n",
    "\n",
    "### Best Performing Case\n",
    "\n",
    "**Which case performed the best?**  \n",
    "**Case 4: age, family_size, and sex**\n",
    "\n",
    "**How do you know?**  \n",
    "It had the highest R² (0.119) and the lowest RMSE and MAE. It clearly captured more signal from the data.\n",
    "\n",
    "**Would more training data help?**  \n",
    "Yes — if more data includes a wider range of fares and combinations of features, the model could learn more complex patterns and improve.\n"
   ]
  },
  {
   "cell_type": "markdown",
   "metadata": {},
   "source": [
    "## Section 5: Compare Alternative Models\n",
    "### 5.1 Ridge Regression (L2 Penalty)"
   ]
  },
  {
   "cell_type": "code",
   "execution_count": 21,
   "metadata": {},
   "outputs": [
    {
     "name": "stdout",
     "output_type": "stream",
     "text": [
      "Ridge Regression:\n",
      "  Train R²: 0.0882011662147344\n",
      "  Test R²: 0.11876859539653262\n",
      "  Test RMSE: 35.70651602778763\n",
      "  Test MAE: 23.600717577829094\n"
     ]
    }
   ],
   "source": [
    "# Ridge Regression with L2 penalty\n",
    "ridge_model = Ridge(alpha=1.0)\n",
    "ridge_model.fit(X4_train, y4_train)\n",
    "\n",
    "# Predictions\n",
    "y_pred_ridge_train = ridge_model.predict(X4_train)\n",
    "y_pred_ridge_test = ridge_model.predict(X4_test)\n",
    "\n",
    "# Evaluate Ridge model\n",
    "print(\"Ridge Regression:\")\n",
    "print(\"  Train R²:\", r2_score(y4_train, y_pred_ridge_train))\n",
    "print(\"  Test R²:\", r2_score(y4_test, y_pred_ridge_test))\n",
    "print(\"  Test RMSE:\", mean_squared_error(y4_test, y_pred_ridge_test) ** 0.5)\n",
    "print(\"  Test MAE:\", mean_absolute_error(y4_test, y_pred_ridge_test))"
   ]
  },
  {
   "cell_type": "markdown",
   "metadata": {},
   "source": [
    "### 5.2 Elastic Net (L1 + L2 Combined)"
   ]
  },
  {
   "cell_type": "code",
   "execution_count": 22,
   "metadata": {},
   "outputs": [
    {
     "name": "stdout",
     "output_type": "stream",
     "text": [
      "Elastic Net Regression:\n",
      "  Train R²: 0.08531358191813698\n",
      "  Test R²: 0.10098557558329924\n",
      "  Test RMSE: 36.06499066780272\n",
      "  Test MAE: 23.795533346425017\n"
     ]
    }
   ],
   "source": [
    "# Elastic Net with a mix of L1 and L2 penalties\n",
    "elastic_model = ElasticNet(alpha=0.3, l1_ratio=0.5)\n",
    "elastic_model.fit(X4_train, y4_train)\n",
    "\n",
    "# Predictions\n",
    "y_pred_elastic_train = elastic_model.predict(X4_train)\n",
    "y_pred_elastic_test = elastic_model.predict(X4_test)\n",
    "\n",
    "# Evaluate Elastic Net model\n",
    "print(\"Elastic Net Regression:\")\n",
    "print(\"  Train R²:\", r2_score(y4_train, y_pred_elastic_train))\n",
    "print(\"  Test R²:\", r2_score(y4_test, y_pred_elastic_test))\n",
    "print(\"  Test RMSE:\", mean_squared_error(y4_test, y_pred_elastic_test) ** 0.5)\n",
    "print(\"  Test MAE:\", mean_absolute_error(y4_test, y_pred_elastic_test))"
   ]
  },
  {
   "cell_type": "markdown",
   "metadata": {},
   "source": [
    "### 5.3 Polynomial Regression"
   ]
  },
  {
   "cell_type": "code",
   "execution_count": 23,
   "metadata": {},
   "outputs": [
    {
     "name": "stdout",
     "output_type": "stream",
     "text": [
      "Polynomial Regression (degree 3):\n",
      "  Train R²: 0.12812701982529395\n",
      "  Test R²: 0.11395523575547784\n",
      "  Test RMSE: 35.803899218672655\n",
      "  Test MAE: 22.895176493956725\n"
     ]
    }
   ],
   "source": [
    "# Set up polynomial features from X4 (our best case)\n",
    "poly = PolynomialFeatures(degree=3)\n",
    "X4_train_poly = poly.fit_transform(X4_train)\n",
    "X4_test_poly = poly.transform(X4_test)\n",
    "\n",
    "# Train the model using polynomial features\n",
    "poly_model = LinearRegression()\n",
    "poly_model.fit(X4_train_poly, y4_train)\n",
    "\n",
    "# Predict\n",
    "y_pred_poly_train = poly_model.predict(X4_train_poly)\n",
    "y_pred_poly_test = poly_model.predict(X4_test_poly)\n",
    "\n",
    "# Evaluate\n",
    "print(\"Polynomial Regression (degree 3):\")\n",
    "print(\"  Train R²:\", r2_score(y4_train, y_pred_poly_train))\n",
    "print(\"  Test R²:\", r2_score(y4_test, y_pred_poly_test))\n",
    "print(\"  Test RMSE:\", mean_squared_error(y4_test, y_pred_poly_test) ** 0.5)\n",
    "print(\"  Test MAE:\", mean_absolute_error(y4_test, y_pred_poly_test))"
   ]
  }
 ],
 "metadata": {
  "kernelspec": {
   "display_name": ".venv",
   "language": "python",
   "name": "python3"
  },
  "language_info": {
   "codemirror_mode": {
    "name": "ipython",
    "version": 3
   },
   "file_extension": ".py",
   "mimetype": "text/x-python",
   "name": "python",
   "nbconvert_exporter": "python",
   "pygments_lexer": "ipython3",
   "version": "3.11.9"
  }
 },
 "nbformat": 4,
 "nbformat_minor": 2
}
